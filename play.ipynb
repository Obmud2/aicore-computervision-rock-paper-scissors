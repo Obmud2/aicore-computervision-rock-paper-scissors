{
 "cells": [
  {
   "cell_type": "code",
   "execution_count": 1,
   "metadata": {},
   "outputs": [],
   "source": [
    "import rps_game\n",
    "rps = rps_game.Rps_game()"
   ]
  },
  {
   "cell_type": "code",
   "execution_count": 2,
   "metadata": {},
   "outputs": [
    {
     "name": "stdout",
     "output_type": "stream",
     "text": [
      "Rock, paper or scissors?\n",
      "You have selected ROCK. Computer has selected ROCK.\n",
      "Draw\n",
      "User: 0, Computer: 0\n",
      "Rock, paper or scissors?\n",
      "You have selected PAPER. Computer has selected ROCK.\n",
      "You win!\n",
      "User: 1, Computer: 0\n",
      "Rock, paper or scissors?\n",
      "You have selected PAPER. Computer has selected ROCK.\n",
      "You win!\n",
      "User: 2, Computer: 0\n",
      "Rock, paper or scissors?\n",
      "You have selected PAPER. Computer has selected SCISSORS.\n",
      "Computer wins!\n",
      "User: 2, Computer: 1\n",
      "Rock, paper or scissors?\n",
      "You have selected PAPER. Computer has selected PAPER.\n",
      "Draw\n",
      "User: 2, Computer: 1\n",
      "Rock, paper or scissors?\n",
      "You have selected PAPER. Computer has selected ROCK.\n",
      "You win!\n",
      "User: 3, Computer: 1\n",
      "Congratulations, you win!\n"
     ]
    }
   ],
   "source": [
    "rps.play_manual()"
   ]
  },
  {
   "cell_type": "code",
   "execution_count": 2,
   "metadata": {},
   "outputs": [
    {
     "name": "stdout",
     "output_type": "stream",
     "text": [
      "Metal device set to: Apple M1 Pro\n",
      "\n",
      "systemMemory: 16.00 GB\n",
      "maxCacheSize: 5.33 GB\n",
      "\n"
     ]
    },
    {
     "name": "stderr",
     "output_type": "stream",
     "text": [
      "2022-08-22 17:38:33.852720: I tensorflow/core/common_runtime/pluggable_device/pluggable_device_factory.cc:305] Could not identify NUMA node of platform GPU ID 0, defaulting to 0. Your kernel may not have been built with NUMA support.\n",
      "2022-08-22 17:38:33.852848: I tensorflow/core/common_runtime/pluggable_device/pluggable_device_factory.cc:271] Created TensorFlow device (/job:localhost/replica:0/task:0/device:GPU:0 with 0 MB memory) -> physical PluggableDevice (device: 0, name: METAL, pci bus id: <undefined>)\n"
     ]
    },
    {
     "name": "stdout",
     "output_type": "stream",
     "text": [
      "WARNING:tensorflow:No training configuration found in the save file, so the model was *not* compiled. Compile it manually.\n"
     ]
    },
    {
     "name": "stderr",
     "output_type": "stream",
     "text": [
      "2022-08-22 17:38:41.909844: W tensorflow/core/platform/profile_utils/cpu_utils.cc:128] Failed to get CPU frequency: 0 Hz\n",
      "2022-08-22 17:38:42.297715: I tensorflow/core/grappler/optimizers/custom_graph_optimizer_registry.cc:113] Plugin optimizer for device_type GPU is enabled.\n"
     ]
    },
    {
     "name": "stdout",
     "output_type": "stream",
     "text": [
      "Rock: 1.00  Paper: 0.00  Scissors: 0.00  Nothing: 0.00\n",
      "You have selected ROCK. Computer has selected PAPER.\n",
      "Computer wins!\n",
      "User: 0, Computer: 1\n"
     ]
    },
    {
     "ename": "KeyboardInterrupt",
     "evalue": "",
     "output_type": "error",
     "traceback": [
      "\u001b[0;31m---------------------------------------------------------------------------\u001b[0m",
      "\u001b[0;31mKeyboardInterrupt\u001b[0m                         Traceback (most recent call last)",
      "\u001b[1;32m/Users/jonpring/aicore/aicore-computervision-rock-paper-scissors/play.ipynb Cell 3\u001b[0m in \u001b[0;36m<cell line: 1>\u001b[0;34m()\u001b[0m\n\u001b[0;32m----> <a href='vscode-notebook-cell:/Users/jonpring/aicore/aicore-computervision-rock-paper-scissors/play.ipynb#W2sZmlsZQ%3D%3D?line=0'>1</a>\u001b[0m rps\u001b[39m.\u001b[39;49mplay_ml()\n",
      "File \u001b[0;32m~/aicore/aicore-computervision-rock-paper-scissors/rps_game.py:133\u001b[0m, in \u001b[0;36mRps_game.play_ml\u001b[0;34m(self)\u001b[0m\n\u001b[1;32m    130\u001b[0m ready \u001b[39m=\u001b[39m \u001b[39mFalse\u001b[39;00m\n\u001b[1;32m    132\u001b[0m \u001b[39mwhile\u001b[39;00m \u001b[39mTrue\u001b[39;00m:\n\u001b[0;32m--> 133\u001b[0m     ret, frame \u001b[39m=\u001b[39m cap\u001b[39m.\u001b[39mread()\n\u001b[1;32m    135\u001b[0m     \u001b[39mif\u001b[39;00m ready:\n\u001b[1;32m    136\u001b[0m         cv2\u001b[39m.\u001b[39mputText(img\u001b[39m=\u001b[39mframe, text\u001b[39m=\u001b[39m\u001b[39mstr\u001b[39m(math\u001b[39m.\u001b[39mceil(counter)), org\u001b[39m=\u001b[39m(\u001b[39m150\u001b[39m, \u001b[39m250\u001b[39m), fontFace\u001b[39m=\u001b[39mcv2\u001b[39m.\u001b[39mFONT_HERSHEY_TRIPLEX, fontScale\u001b[39m=\u001b[39m\u001b[39m6\u001b[39m, color\u001b[39m=\u001b[39m(\u001b[39m0\u001b[39m, \u001b[39m255\u001b[39m, \u001b[39m0\u001b[39m),thickness\u001b[39m=\u001b[39m\u001b[39m3\u001b[39m)\n",
      "\u001b[0;31mKeyboardInterrupt\u001b[0m: "
     ]
    }
   ],
   "source": [
    "rps.play_ml()"
   ]
  }
 ],
 "metadata": {
  "kernelspec": {
   "display_name": "Python 3.10.5",
   "language": "python",
   "name": "python3"
  },
  "language_info": {
   "codemirror_mode": {
    "name": "ipython",
    "version": 3
   },
   "file_extension": ".py",
   "mimetype": "text/x-python",
   "name": "python",
   "nbconvert_exporter": "python",
   "pygments_lexer": "ipython3",
   "version": "3.10.5"
  },
  "orig_nbformat": 4,
  "vscode": {
   "interpreter": {
    "hash": "ec3851c8d0af2c3370c97ea4f8b3cd227463b8df70ec63065c46c426113ceb6a"
   }
  }
 },
 "nbformat": 4,
 "nbformat_minor": 2
}
