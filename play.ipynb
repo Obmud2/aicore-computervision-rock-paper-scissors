{
 "cells": [
  {
   "cell_type": "code",
   "execution_count": 1,
   "metadata": {},
   "outputs": [],
   "source": [
    "#import manual_rps as rps\n",
    "\n",
    "#rps.play()"
   ]
  },
  {
   "cell_type": "code",
   "execution_count": 2,
   "metadata": {},
   "outputs": [],
   "source": [
    "import rps_game"
   ]
  },
  {
   "cell_type": "code",
   "execution_count": 3,
   "metadata": {},
   "outputs": [
    {
     "name": "stdout",
     "output_type": "stream",
     "text": [
      "Metal device set to: Apple M1 Pro\n",
      "\n",
      "systemMemory: 16.00 GB\n",
      "maxCacheSize: 5.33 GB\n",
      "\n"
     ]
    },
    {
     "name": "stderr",
     "output_type": "stream",
     "text": [
      "2022-07-21 20:51:12.017229: I tensorflow/core/common_runtime/pluggable_device/pluggable_device_factory.cc:305] Could not identify NUMA node of platform GPU ID 0, defaulting to 0. Your kernel may not have been built with NUMA support.\n",
      "2022-07-21 20:51:12.017344: I tensorflow/core/common_runtime/pluggable_device/pluggable_device_factory.cc:271] Created TensorFlow device (/job:localhost/replica:0/task:0/device:GPU:0 with 0 MB memory) -> physical PluggableDevice (device: 0, name: METAL, pci bus id: <undefined>)\n"
     ]
    },
    {
     "name": "stdout",
     "output_type": "stream",
     "text": [
      "WARNING:tensorflow:No training configuration found in the save file, so the model was *not* compiled. Compile it manually.\n"
     ]
    },
    {
     "name": "stderr",
     "output_type": "stream",
     "text": [
      "2022-07-21 20:51:20.123499: W tensorflow/core/platform/profile_utils/cpu_utils.cc:128] Failed to get CPU frequency: 0 Hz\n",
      "2022-07-21 20:51:20.508995: I tensorflow/core/grappler/optimizers/custom_graph_optimizer_registry.cc:113] Plugin optimizer for device_type GPU is enabled.\n"
     ]
    },
    {
     "name": "stdout",
     "output_type": "stream",
     "text": [
      "Rock: 0.88  Paper: 0.00  Scissors: 0.00  Nothing: 0.12\n",
      "You have selected ROCK. Computer has selected PAPER.\n",
      "Computer wins!\n",
      "User: 0, Computer: 1\n",
      "Rock: 0.96  Paper: 0.00  Scissors: 0.00  Nothing: 0.04\n",
      "You have selected ROCK. Computer has selected PAPER.\n",
      "Computer wins!\n",
      "User: 0, Computer: 2\n",
      "Rock: 0.99  Paper: 0.00  Scissors: 0.00  Nothing: 0.01\n",
      "You have selected ROCK. Computer has selected SCISSORS.\n",
      "You win!\n",
      "User: 1, Computer: 2\n",
      "Rock: 0.75  Paper: 0.00  Scissors: 0.00  Nothing: 0.25\n",
      "You have selected ROCK. Computer has selected PAPER.\n",
      "Computer wins!\n",
      "User: 1, Computer: 3\n",
      "Game over, you lose\n"
     ]
    }
   ],
   "source": [
    "rps = rps_game.Rps_game()\n",
    "\n",
    "rps.play_manual()"
   ]
  },
  {
   "cell_type": "code",
   "execution_count": null,
   "metadata": {},
   "outputs": [],
   "source": [
    "rps.play_ml()"
   ]
  }
 ],
 "metadata": {
  "kernelspec": {
   "display_name": "Python 3.10.5",
   "language": "python",
   "name": "python3"
  },
  "language_info": {
   "codemirror_mode": {
    "name": "ipython",
    "version": 3
   },
   "file_extension": ".py",
   "mimetype": "text/x-python",
   "name": "python",
   "nbconvert_exporter": "python",
   "pygments_lexer": "ipython3",
   "version": "3.10.5"
  },
  "orig_nbformat": 4,
  "vscode": {
   "interpreter": {
    "hash": "ec3851c8d0af2c3370c97ea4f8b3cd227463b8df70ec63065c46c426113ceb6a"
   }
  }
 },
 "nbformat": 4,
 "nbformat_minor": 2
}
